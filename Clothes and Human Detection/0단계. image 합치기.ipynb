{
 "cells": [
  {
   "cell_type": "code",
   "execution_count": 1,
   "id": "87758e6f",
   "metadata": {},
   "outputs": [],
   "source": [
    "import os\n",
    "import cv2\n",
    "import numpy as np"
   ]
  },
  {
   "cell_type": "code",
   "execution_count": 2,
   "id": "dfe72c79",
   "metadata": {},
   "outputs": [],
   "source": [
    "def imread(filename, flags=cv2.IMREAD_COLOR, dtype=np.uint8):\n",
    "    try:\n",
    "        n = np.fromfile(filename, dtype)\n",
    "        img = cv2.imdecode(n, flags)\n",
    "        return img\n",
    "    except Exception as e:\n",
    "        print(e)\n",
    "        return None\n",
    "def img_preprocessing(img_path):\n",
    "    # 한글 경로로 되어 있지 않을 때 1번, 한글 경로로 되어 있다면 2번을 사용함.\n",
    "    # 1번\n",
    "    #re_img = cv2.imread(img_path)\n",
    "    # 2번\n",
    "    img = imread(img_path)\n",
    "    \n",
    "    #전처리 부분\n",
    "    # 여기서 416,416으로 이미지 크기를 조정함.\n",
    "    # 이밖에 모자이크, 흑백 등의 전처리를 추가하고 싶다면 자유롭게 할 것.\n",
    "    re_img = cv2.resize(img, (256, 256))\n",
    "    return re_img\n",
    "# 파일 위치가 한글 경로가 존재할 때 사용함(없다면 제외하고 해도 상관 없음)\n",
    "def imwrite(filename, img, params=None):\n",
    "    try:\n",
    "        ext = os.path.splitext(filename)[1]\n",
    "        result, n = cv2.imencode(ext, img, params)\n",
    "        if result:\n",
    "            with open(filename, mode='w+b') as f:\n",
    "                n.tofile(f)\n",
    "            return True\n",
    "        else:\n",
    "            return False\n",
    "    except Exception as e:\n",
    "        print(e)\n",
    "        return False"
   ]
  },
  {
   "cell_type": "code",
   "execution_count": 3,
   "id": "fa249114",
   "metadata": {},
   "outputs": [],
   "source": [
    "path = os.getcwd()\n",
    "#진행: Top, Outer, Pants, Onepiece, Skirt, Sport_Top,Sport_Outer, Sport_Pants\n",
    "List = [\"Top\",\"Outer\",\"Pants\",\"Onepiece\",\"Skirt\",\"Sport_Top\",\"Sport_Outer\",\"Sport_Pants\"]\n",
    "img_path = os.path.join(path,\"img_data\")\n",
    "# img_path = os.path.join(os.path.join(path,\"img_data\"),\"img_data\")\n",
    "product_img_path = os.path.join(os.path.join(img_path,\"product_img\"))\n",
    "review_img_path = os.path.join(os.path.join(img_path,\"review_img\"))"
   ]
  },
  {
   "cell_type": "code",
   "execution_count": 4,
   "id": "71ecbc78",
   "metadata": {},
   "outputs": [],
   "source": [
    "now = List[-2]\n",
    "product_path = os.path.join(product_img_path,now)\n",
    "review_path = os.path.join(review_img_path,now)\n",
    "product_file_list = os.listdir(product_path)\n",
    "review_file_list = os.listdir(review_path)\n",
    "sorted_review_file_list = sorted(review_file_list,key=lambda x:int(x.split(\"_\")[1][:-4]))"
   ]
  },
  {
   "cell_type": "code",
   "execution_count": 5,
   "id": "12f65919",
   "metadata": {},
   "outputs": [],
   "source": [
    "all_img_path = os.path.join(os.path.join(img_path,\"All_img\"))\n",
    "if not os.path.isdir(all_img_path):\n",
    "    os.mkdir(all_img_path)\n",
    "Img_List = []\n",
    "for now in List:\n",
    "    review_path = os.path.join(review_img_path,now)\n",
    "    review_file_list = os.listdir(review_path)\n",
    "    for j in review_file_list:\n",
    "        Img_List.append(os.path.join(review_path,j))"
   ]
  },
  {
   "cell_type": "code",
   "execution_count": 6,
   "id": "971ae3c6",
   "metadata": {},
   "outputs": [],
   "source": [
    "for i, j in enumerate(Img_List):\n",
    "    temp_img = img_preprocessing(j)\n",
    "    imwrite(os.path.join(all_img_path,str(i).zfill(5)+\".jpg\"),temp_img)"
   ]
  },
  {
   "cell_type": "code",
   "execution_count": null,
   "id": "31a31aa7",
   "metadata": {},
   "outputs": [],
   "source": [
    " "
   ]
  }
 ],
 "metadata": {
  "kernelspec": {
   "display_name": "Python 3 (ipykernel)",
   "language": "python",
   "name": "python3"
  },
  "language_info": {
   "codemirror_mode": {
    "name": "ipython",
    "version": 3
   },
   "file_extension": ".py",
   "mimetype": "text/x-python",
   "name": "python",
   "nbconvert_exporter": "python",
   "pygments_lexer": "ipython3",
   "version": "3.9.16"
  }
 },
 "nbformat": 4,
 "nbformat_minor": 5
}
