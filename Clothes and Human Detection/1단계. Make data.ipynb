{
 "cells": [
  {
   "cell_type": "code",
   "execution_count": 1,
   "id": "6b6dce81",
   "metadata": {},
   "outputs": [
    {
     "name": "stderr",
     "output_type": "stream",
     "text": [
      "C:\\Users\\USER\\anaconda3\\envs\\preparation\\lib\\site-packages\\tqdm\\auto.py:21: TqdmWarning: IProgress not found. Please update jupyter and ipywidgets. See https://ipywidgets.readthedocs.io/en/stable/user_install.html\n",
      "  from .autonotebook import tqdm as notebook_tqdm\n"
     ]
    }
   ],
   "source": [
    "%matplotlib inline\n",
    "\n",
    "import numpy as np\n",
    "import matplotlib.pyplot as plt\n",
    "import random\n",
    "import os\n",
    "\n",
    "import yaml\n",
    "import cv2\n",
    "import shutil\n",
    "import tqdm\n",
    "import glob\n",
    "import torch\n",
    "from ultralytics import YOLO"
   ]
  },
  {
   "cell_type": "code",
   "execution_count": 2,
   "id": "869f39d7",
   "metadata": {},
   "outputs": [],
   "source": [
    "path = os.getcwd()\n",
    "img_path = os.path.join(os.path.join(os.path.join(path,\"img_data\"),\"img_data\"),\"colorful_fashion_dataset_for_object_detection\")\n",
    "images_path = os.path.join(img_path,\"JPEGImages\")\n",
    "annotations_path  = os.path.join(img_path,\"Annotations_txt\")"
   ]
  },
  {
   "cell_type": "code",
   "execution_count": 3,
   "id": "5e9f6a8d",
   "metadata": {},
   "outputs": [],
   "source": [
    "train_num_path = os.path.join(os.path.join(os.path.join(img_path,\"ImageSets\"),\"Main\"), \"trainval.txt\")\n",
    "test_num_path = os.path.join(os.path.join(os.path.join(img_path,\"ImageSets\"),\"Main\"), \"test.txt\")"
   ]
  },
  {
   "cell_type": "code",
   "execution_count": 4,
   "id": "a7a0f43c",
   "metadata": {},
   "outputs": [],
   "source": [
    "with open(train_num_path,'r') as f:\n",
    "    train_num = f.read()\n",
    "with open(test_num_path,'r') as f:\n",
    "    test_num = f.read()\n",
    "train_num_list = train_num.split(\"\\n\")[:-1]\n",
    "test_num_list = test_num.split(\"\\n\")[:-1]\n",
    "# print(train_num_list)\n",
    "# print(test_num_list)"
   ]
  },
  {
   "cell_type": "code",
   "execution_count": 5,
   "id": "f8e7de72",
   "metadata": {},
   "outputs": [],
   "source": [
    "def imread(filename, flags=cv2.IMREAD_COLOR, dtype=np.uint8):\n",
    "    try:\n",
    "        n = np.fromfile(filename, dtype)\n",
    "        img = cv2.imdecode(n, flags)\n",
    "        return img\n",
    "    except Exception as e:\n",
    "        print(e)\n",
    "        return None\n",
    "def img_preprocessing(img_path):\n",
    "    # 한글 경로로 되어 있지 않을 때 1번, 한글 경로로 되어 있다면 2번을 사용함.\n",
    "    # 1번\n",
    "    #re_img = cv2.imread(img_path)\n",
    "    # 2번\n",
    "    img = imread(img_path)\n",
    "    \n",
    "    #전처리 부분\n",
    "    # 여기서 416,416으로 이미지 크기를 조정함.\n",
    "    # 이밖에 모자이크, 흑백 등의 전처리를 추가하고 싶다면 자유롭게 할 것.\n",
    "    re_img = cv2.resize(img, (256, 256))\n",
    "    return re_img\n",
    "# 파일 위치가 한글 경로가 존재할 때 사용함(없다면 제외하고 해도 상관 없음)\n",
    "def imwrite(filename, img, params=None):\n",
    "    try:\n",
    "        ext = os.path.splitext(filename)[1]\n",
    "        result, n = cv2.imencode(ext, img, params)\n",
    "        if result:\n",
    "            with open(filename, mode='w+b') as f:\n",
    "                n.tofile(f)\n",
    "            return True\n",
    "        else:\n",
    "            return False\n",
    "    except Exception as e:\n",
    "        print(e)\n",
    "        return False"
   ]
  },
  {
   "cell_type": "code",
   "execution_count": 6,
   "id": "20b33909",
   "metadata": {},
   "outputs": [],
   "source": [
    "def make_dir(path):\n",
    "    if not os.path.isdir(path):\n",
    "        os.mkdir(path)"
   ]
  },
  {
   "cell_type": "code",
   "execution_count": 7,
   "id": "2bd6bad4",
   "metadata": {},
   "outputs": [],
   "source": [
    "# image 가져오기\n",
    "# image 분리하기\n",
    "# image 저장하기\n",
    "train_dir = os.path.join(img_path,\"train\")\n",
    "val_dir = os.path.join(img_path,\"val\")\n",
    "train_img_dir = os.path.join(train_dir,\"images\")\n",
    "val_img_dir = os.path.join(val_dir,\"images\")\n",
    "train_label_dir = os.path.join(train_dir,\"labels\")\n",
    "val_label_dir = os.path.join(val_dir,\"labels\")\n",
    "make_dir(train_dir)\n",
    "make_dir(val_dir)\n",
    "make_dir(train_img_dir)\n",
    "make_dir(val_img_dir)\n",
    "make_dir(train_label_dir)\n",
    "make_dir(val_label_dir)"
   ]
  },
  {
   "cell_type": "code",
   "execution_count": 8,
   "id": "586d37a7",
   "metadata": {},
   "outputs": [
    {
     "data": {
      "text/plain": [
       "'C:\\\\Users\\\\USER\\\\Desktop\\\\수\\\\인공지능 데브코스 6기\\\\최종 프로젝트\\\\code\\\\image code\\\\img_data\\\\img_data\\\\colorful_fashion_dataset_for_object_detection\\\\train\\\\images'"
      ]
     },
     "execution_count": 8,
     "metadata": {},
     "output_type": "execute_result"
    }
   ],
   "source": [
    "train_img_dir"
   ]
  },
  {
   "cell_type": "code",
   "execution_count": 9,
   "id": "c4b95006",
   "metadata": {},
   "outputs": [],
   "source": [
    "for i in train_num_list:\n",
    "    img_dir = os.path.join(images_path, i+\".jpg\")\n",
    "    New_img_dir = os.path.join(train_img_dir,i+\".jpg\")\n",
    "    img = imread(img_dir)\n",
    "    imwrite(New_img_dir,img)\n",
    "for i in test_num_list:\n",
    "    img_dir = os.path.join(images_path, i+\".jpg\")\n",
    "    New_img_dir = os.path.join(val_img_dir,i+\".jpg\")\n",
    "    img = imread(img_dir)\n",
    "    imwrite(New_img_dir,img)"
   ]
  },
  {
   "cell_type": "code",
   "execution_count": 10,
   "id": "83a17432",
   "metadata": {},
   "outputs": [],
   "source": [
    "# 나눠서 저장하기\n",
    "# 라벨 읽고 저장\n",
    "for file in train_num_list:\n",
    "    label_path = os.path.join(annotations_path, file+\".txt\")\n",
    "    T_label_path = os.path.join(train_label_dir, file+\".txt\")\n",
    "    f = open(label_path, 'r')\n",
    "    h = open(T_label_path,'w')\n",
    "    data = f.read()\n",
    "    h.write(data)\n",
    "    f.close()\n",
    "    h.close()\n",
    "    \n",
    "for file in test_num_list:\n",
    "    label_path = os.path.join(annotations_path, file+\".txt\")\n",
    "    T_label_path = os.path.join(val_label_dir, file+\".txt\")\n",
    "    f = open(label_path, 'r')\n",
    "    h = open(T_label_path,'w')\n",
    "    data = f.read()\n",
    "    h.write(data)\n",
    "    f.close()\n",
    "    h.close()"
   ]
  },
  {
   "cell_type": "code",
   "execution_count": 11,
   "id": "4d5b610b",
   "metadata": {},
   "outputs": [],
   "source": [
    "with open(os.path.join(img_path,\"labels.txt\"),'r') as f:\n",
    "    data = f.read()\n",
    "    classes = data\n",
    "names = classes.split(\",\\n\")\n",
    "nc = len(names)"
   ]
  },
  {
   "cell_type": "code",
   "execution_count": 12,
   "id": "ddeff636",
   "metadata": {},
   "outputs": [
    {
     "data": {
      "text/plain": [
       "{'names': ['sunglass',\n",
       "  'hat',\n",
       "  'jacket',\n",
       "  'shirt',\n",
       "  'pants',\n",
       "  'shorts',\n",
       "  'skirt',\n",
       "  'dress',\n",
       "  'bag',\n",
       "  'shoe'],\n",
       " 'nc': 10,\n",
       " 'train': 'C:\\\\Users\\\\USER\\\\Desktop\\\\수\\\\인공지능 데브코스 6기\\\\최종 프로젝트\\\\code\\\\image code\\\\img_data\\\\img_data\\\\colorful_fashion_dataset_for_object_detection\\\\train\\\\images',\n",
       " 'val': 'C:\\\\Users\\\\USER\\\\Desktop\\\\수\\\\인공지능 데브코스 6기\\\\최종 프로젝트\\\\code\\\\image code\\\\img_data\\\\img_data\\\\colorful_fashion_dataset_for_object_detection\\\\val\\\\images'}"
      ]
     },
     "metadata": {},
     "output_type": "display_data"
    }
   ],
   "source": [
    "yaml_data = {'train': train_img_dir, 'val': val_img_dir, 'nc': nc, 'names': names}\n",
    "yaml_path = os.path.join(path,'data.yaml')\n",
    "with open(yaml_path,'w') as f:\n",
    "    yaml.dump(yaml_data,f)\n",
    "# 잘 저장되었는 지 확인하기\n",
    "with open(yaml_path,'r') as f:\n",
    "    yaml_file = yaml.load(f, Loader=yaml.FullLoader)\n",
    "    display(yaml_file)\n"
   ]
  },
  {
   "cell_type": "code",
   "execution_count": null,
   "id": "fbbc69f3",
   "metadata": {},
   "outputs": [],
   "source": []
  }
 ],
 "metadata": {
  "kernelspec": {
   "display_name": "Python 3 (ipykernel)",
   "language": "python",
   "name": "python3"
  },
  "language_info": {
   "codemirror_mode": {
    "name": "ipython",
    "version": 3
   },
   "file_extension": ".py",
   "mimetype": "text/x-python",
   "name": "python",
   "nbconvert_exporter": "python",
   "pygments_lexer": "ipython3",
   "version": "3.9.16"
  }
 },
 "nbformat": 4,
 "nbformat_minor": 5
}
