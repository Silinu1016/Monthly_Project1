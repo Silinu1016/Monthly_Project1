{
 "cells": [
  {
   "cell_type": "code",
   "execution_count": 1,
   "id": "6b6dce81",
   "metadata": {},
   "outputs": [
    {
     "name": "stderr",
     "output_type": "stream",
     "text": [
      "C:\\Users\\USER\\anaconda3\\envs\\preparation\\lib\\site-packages\\tqdm\\auto.py:21: TqdmWarning: IProgress not found. Please update jupyter and ipywidgets. See https://ipywidgets.readthedocs.io/en/stable/user_install.html\n",
      "  from .autonotebook import tqdm as notebook_tqdm\n"
     ]
    }
   ],
   "source": [
    "%matplotlib inline\n",
    "\n",
    "import numpy as np\n",
    "import matplotlib.pyplot as plt\n",
    "import random\n",
    "import os\n",
    "import random\n",
    "import yaml\n",
    "import cv2\n",
    "import shutil\n",
    "import tqdm\n",
    "import glob\n",
    "import torch\n",
    "from ultralytics import YOLO"
   ]
  },
  {
   "cell_type": "code",
   "execution_count": 2,
   "id": "869f39d7",
   "metadata": {},
   "outputs": [],
   "source": [
    "path = os.getcwd()\n",
    "img_path = os.path.join(path,\"img_data\")\n",
    "images_path = os.path.join(img_path,\"All_img\")\n",
    "annotations_path  = os.path.join(img_path,\"All_img_Label\")"
   ]
  },
  {
   "cell_type": "code",
   "execution_count": 3,
   "id": "fe4b978b",
   "metadata": {},
   "outputs": [],
   "source": [
    "label_data = [i.split(\".\")[0] for i in os.listdir(annotations_path)]\n",
    "random.seed(1016)\n",
    "random.shuffle(label_data)\n",
    "splited_data_num = int(len(label_data)*0.8)\n",
    "train_num_list = label_data[:splited_data_num]\n",
    "val_num_list = label_data[splited_data_num:]"
   ]
  },
  {
   "cell_type": "code",
   "execution_count": 4,
   "id": "f8e7de72",
   "metadata": {},
   "outputs": [],
   "source": [
    "def imread(filename, flags=cv2.IMREAD_COLOR, dtype=np.uint8):\n",
    "    try:\n",
    "        n = np.fromfile(filename, dtype)\n",
    "        img = cv2.imdecode(n, flags)\n",
    "        return img\n",
    "    except Exception as e:\n",
    "        print(e)\n",
    "        return None\n",
    "def img_preprocessing(img_path):\n",
    "    # 한글 경로로 되어 있지 않을 때 1번, 한글 경로로 되어 있다면 2번을 사용함.\n",
    "    # 1번\n",
    "    #re_img = cv2.imread(img_path)\n",
    "    # 2번\n",
    "    img = imread(img_path)\n",
    "    \n",
    "    #전처리 부분\n",
    "    # 여기서 416,416으로 이미지 크기를 조정함.\n",
    "    # 이밖에 모자이크, 흑백 등의 전처리를 추가하고 싶다면 자유롭게 할 것.\n",
    "    re_img = cv2.resize(img, (256, 256))\n",
    "    return re_img\n",
    "# 파일 위치가 한글 경로가 존재할 때 사용함(없다면 제외하고 해도 상관 없음)\n",
    "def imwrite(filename, img, params=None):\n",
    "    try:\n",
    "        ext = os.path.splitext(filename)[1]\n",
    "        result, n = cv2.imencode(ext, img, params)\n",
    "        if result:\n",
    "            with open(filename, mode='w+b') as f:\n",
    "                n.tofile(f)\n",
    "            return True\n",
    "        else:\n",
    "            return False\n",
    "    except Exception as e:\n",
    "        print(e)\n",
    "        return False"
   ]
  },
  {
   "cell_type": "code",
   "execution_count": 5,
   "id": "20b33909",
   "metadata": {},
   "outputs": [],
   "source": [
    "def make_dir(path):\n",
    "    if not os.path.isdir(path):\n",
    "        os.mkdir(path)"
   ]
  },
  {
   "cell_type": "code",
   "execution_count": 6,
   "id": "2bd6bad4",
   "metadata": {},
   "outputs": [],
   "source": [
    "# image 가져오기\n",
    "# image 분리하기\n",
    "# image 저장하기\n",
    "train_dir = os.path.join(img_path,\"train\")\n",
    "val_dir = os.path.join(img_path,\"val\")\n",
    "train_img_dir = os.path.join(train_dir,\"images\")\n",
    "val_img_dir = os.path.join(val_dir,\"images\")\n",
    "train_label_dir = os.path.join(train_dir,\"labels\")\n",
    "val_label_dir = os.path.join(val_dir,\"labels\")\n",
    "make_dir(train_dir)\n",
    "make_dir(val_dir)\n",
    "make_dir(train_img_dir)\n",
    "make_dir(val_img_dir)\n",
    "make_dir(train_label_dir)\n",
    "make_dir(val_label_dir)"
   ]
  },
  {
   "cell_type": "code",
   "execution_count": 7,
   "id": "586d37a7",
   "metadata": {},
   "outputs": [
    {
     "data": {
      "text/plain": [
       "'C:\\\\Users\\\\USER\\\\Desktop\\\\수\\\\인공지능 데브코스 6기\\\\최종 프로젝트\\\\code\\\\image code\\\\img_data\\\\train\\\\images'"
      ]
     },
     "execution_count": 7,
     "metadata": {},
     "output_type": "execute_result"
    }
   ],
   "source": [
    "train_img_dir"
   ]
  },
  {
   "cell_type": "code",
   "execution_count": 8,
   "id": "c4b95006",
   "metadata": {},
   "outputs": [
    {
     "name": "stdout",
     "output_type": "stream",
     "text": [
      "[Errno 2] No such file or directory: 'C:\\\\Users\\\\USER\\\\Desktop\\\\수\\\\인공지능 데브코스 6기\\\\최종 프로젝트\\\\code\\\\image code\\\\img_data\\\\All_img\\\\classes.jpg'\n",
      "OpenCV(4.8.1) D:\\a\\opencv-python\\opencv-python\\opencv\\modules\\imgcodecs\\src\\loadsave.cpp:1113: error: (-215:Assertion failed) !image.empty() in function 'cv::imencode'\n",
      "\n"
     ]
    }
   ],
   "source": [
    "for i in train_num_list:\n",
    "    img_dir = os.path.join(images_path, i+\".jpg\")\n",
    "    New_img_dir = os.path.join(train_img_dir,i+\".jpg\")\n",
    "    img = imread(img_dir)\n",
    "    imwrite(New_img_dir,img)\n",
    "for i in val_num_list:\n",
    "    img_dir = os.path.join(images_path, i+\".jpg\")\n",
    "    New_img_dir = os.path.join(val_img_dir,i+\".jpg\")\n",
    "    img = imread(img_dir)\n",
    "    imwrite(New_img_dir,img)"
   ]
  },
  {
   "cell_type": "code",
   "execution_count": 9,
   "id": "83a17432",
   "metadata": {},
   "outputs": [],
   "source": [
    "# 나눠서 저장하기\n",
    "# 라벨 읽고 저장\n",
    "for file in train_num_list:\n",
    "    label_path = os.path.join(annotations_path, file+\".txt\")\n",
    "    T_label_path = os.path.join(train_label_dir, file+\".txt\")\n",
    "    f = open(label_path, 'r')\n",
    "    h = open(T_label_path,'w')\n",
    "    data = f.read()\n",
    "    h.write(data)\n",
    "    f.close()\n",
    "    h.close()\n",
    "    \n",
    "for file in val_num_list:\n",
    "    label_path = os.path.join(annotations_path, file+\".txt\")\n",
    "    T_label_path = os.path.join(val_label_dir, file+\".txt\")\n",
    "    f = open(label_path, 'r')\n",
    "    h = open(T_label_path,'w')\n",
    "    data = f.read()\n",
    "    h.write(data)\n",
    "    f.close()\n",
    "    h.close()"
   ]
  },
  {
   "cell_type": "code",
   "execution_count": 10,
   "id": "4d5b610b",
   "metadata": {},
   "outputs": [],
   "source": [
    "with open(os.path.join(img_path,\"classes.txt\"),'r') as f:\n",
    "    data = f.read()\n",
    "    classes = data\n",
    "names = classes.split(\"\\n\")[:-1]\n",
    "nc = len(names)"
   ]
  },
  {
   "cell_type": "code",
   "execution_count": 11,
   "id": "ddeff636",
   "metadata": {},
   "outputs": [
    {
     "data": {
      "text/plain": [
       "{'names': ['Top', 'Outer', 'Pants', 'Onepiece', 'Skirt'],\n",
       " 'nc': 5,\n",
       " 'train': 'C:\\\\Users\\\\USER\\\\Desktop\\\\수\\\\인공지능 데브코스 6기\\\\최종 프로젝트\\\\code\\\\image code\\\\img_data\\\\train\\\\images',\n",
       " 'val': 'C:\\\\Users\\\\USER\\\\Desktop\\\\수\\\\인공지능 데브코스 6기\\\\최종 프로젝트\\\\code\\\\image code\\\\img_data\\\\val\\\\images'}"
      ]
     },
     "metadata": {},
     "output_type": "display_data"
    }
   ],
   "source": [
    "yaml_data = {'train': train_img_dir, 'val': val_img_dir, 'nc': nc, 'names': names}\n",
    "yaml_path = os.path.join(path,'data.yaml')\n",
    "with open(yaml_path,'w') as f:\n",
    "    yaml.dump(yaml_data,f)\n",
    "# 잘 저장되었는 지 확인하기\n",
    "with open(yaml_path,'r') as f:\n",
    "    yaml_file = yaml.load(f, Loader=yaml.FullLoader)\n",
    "    display(yaml_file)\n"
   ]
  },
  {
   "cell_type": "code",
   "execution_count": null,
   "id": "fbbc69f3",
   "metadata": {},
   "outputs": [],
   "source": []
  }
 ],
 "metadata": {
  "kernelspec": {
   "display_name": "Python 3 (ipykernel)",
   "language": "python",
   "name": "python3"
  },
  "language_info": {
   "codemirror_mode": {
    "name": "ipython",
    "version": 3
   },
   "file_extension": ".py",
   "mimetype": "text/x-python",
   "name": "python",
   "nbconvert_exporter": "python",
   "pygments_lexer": "ipython3",
   "version": "3.9.16"
  }
 },
 "nbformat": 4,
 "nbformat_minor": 5
}
