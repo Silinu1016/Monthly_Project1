{
 "cells": [
  {
   "cell_type": "code",
   "execution_count": 1,
   "id": "6a42f011",
   "metadata": {},
   "outputs": [],
   "source": [
    "#6 - skirt\n",
    "#7 -dress"
   ]
  },
  {
   "cell_type": "code",
   "execution_count": 2,
   "id": "54202c43",
   "metadata": {},
   "outputs": [
    {
     "name": "stderr",
     "output_type": "stream",
     "text": [
      "C:\\Users\\USER\\anaconda3\\envs\\preparation\\lib\\site-packages\\tqdm\\auto.py:21: TqdmWarning: IProgress not found. Please update jupyter and ipywidgets. See https://ipywidgets.readthedocs.io/en/stable/user_install.html\n",
      "  from .autonotebook import tqdm as notebook_tqdm\n"
     ]
    }
   ],
   "source": [
    "%matplotlib inline\n",
    "\n",
    "import numpy as np\n",
    "import matplotlib.pyplot as plt\n",
    "import random\n",
    "import os\n",
    "import random\n",
    "import yaml\n",
    "import cv2\n",
    "import shutil\n",
    "import tqdm\n",
    "import glob\n",
    "import torch\n",
    "from ultralytics import YOLO"
   ]
  },
  {
   "cell_type": "code",
   "execution_count": 3,
   "id": "2e6bf3f2",
   "metadata": {},
   "outputs": [],
   "source": [
    "def imread(filename, flags=cv2.IMREAD_COLOR, dtype=np.uint8):\n",
    "    try:\n",
    "        n = np.fromfile(filename, dtype)\n",
    "        img = cv2.imdecode(n, flags)\n",
    "        return img\n",
    "    except Exception as e:\n",
    "        print(e)\n",
    "        return None\n",
    "def img_preprocessing(img_path):\n",
    "    # 한글 경로로 되어 있지 않을 때 1번, 한글 경로로 되어 있다면 2번을 사용함.\n",
    "    # 1번\n",
    "    #re_img = cv2.imread(img_path)\n",
    "    # 2번\n",
    "    img = imread(img_path)\n",
    "    \n",
    "    #전처리 부분\n",
    "    # 여기서 416,416으로 이미지 크기를 조정함.\n",
    "    # 이밖에 모자이크, 흑백 등의 전처리를 추가하고 싶다면 자유롭게 할 것.\n",
    "    re_img = cv2.resize(img, (256, 256))\n",
    "    return re_img\n",
    "# 파일 위치가 한글 경로가 존재할 때 사용함(없다면 제외하고 해도 상관 없음)\n",
    "def imwrite(filename, img, params=None):\n",
    "    print(\"h\")\n",
    "    try:\n",
    "        ext = os.path.splitext(filename)[1]\n",
    "        result, n = cv2.imencode(ext, img, params)\n",
    "        if result:\n",
    "            with open(filename, mode='w+b') as f:\n",
    "                n.tofile(f)\n",
    "            return True\n",
    "        else:\n",
    "            return False\n",
    "    except Exception as e:\n",
    "        print(e)\n",
    "        return False\n",
    "def make_dir(path):\n",
    "    if not os.path.isdir(path):\n",
    "        os.mkdir(path)"
   ]
  },
  {
   "cell_type": "code",
   "execution_count": 4,
   "id": "1180107e",
   "metadata": {},
   "outputs": [],
   "source": [
    "path = os.getcwd()\n",
    "img_path = os.path.join(path,\"img_data\")"
   ]
  },
  {
   "cell_type": "code",
   "execution_count": 5,
   "id": "9efd86be",
   "metadata": {},
   "outputs": [],
   "source": [
    "for i in range(1,4):\n",
    "    globals()[f\"train_dir{i}\"] = os.path.join(img_path,\"train\"+str(i))\n",
    "    globals()[f\"val_dir{i}\"] = os.path.join(img_path,\"val\"+str(i))\n",
    "    globals()[f\"train_img_dir{i}\"] = os.path.join(globals()[f\"train_dir{i}\"],\"images\")\n",
    "    globals()[f\"val_img_dir{i}\"] = os.path.join(globals()[f\"val_dir{i}\"],\"images\")\n",
    "    globals()[f\"train_label_dir{i}\"] = os.path.join(globals()[f\"train_dir{i}\"],\"labels\")\n",
    "    globals()[f\"val_label_dir{i}\"] = os.path.join(globals()[f\"val_dir{i}\"],\"labels\")\n",
    "    make_dir(globals()[f\"train_dir{i}\"])\n",
    "    make_dir(globals()[f\"val_dir{i}\"])\n",
    "    make_dir(globals()[f\"train_img_dir{i}\"])\n",
    "    make_dir(globals()[f\"val_img_dir{i}\"])\n",
    "    make_dir(globals()[f\"train_label_dir{i}\"])\n",
    "    make_dir(globals()[f\"val_label_dir{i}\"])"
   ]
  },
  {
   "cell_type": "code",
   "execution_count": 6,
   "id": "4d5e265a",
   "metadata": {},
   "outputs": [],
   "source": [
    "for i in range(1,4):\n",
    "    globals()[f\"all_label_data{i}\"] = [i.split(\".\")[0] for i in os.listdir(globals()[f\"train_img_dir{i}\"]) if i !=\"classes.txt\"]"
   ]
  },
  {
   "cell_type": "code",
   "execution_count": 7,
   "id": "adabf52d",
   "metadata": {},
   "outputs": [],
   "source": [
    "for k in range(1,4):\n",
    "    train_label_dir = globals()[f\"train_label_dir{k}\"]\n",
    "    train_img_dir = globals()[f\"train_img_dir{k}\"]\n",
    "    for i in globals()[f\"all_label_data{k}\"]:\n",
    "        label_path = os.path.join(train_label_dir, i+\".txt\")\n",
    "        Blur_label_path = os.path.join(train_label_dir, i+\"blur\"+\".txt\")\n",
    "        Color_label_path = os.path.join(train_label_dir, i+\"color\"+\".txt\")\n",
    "        img_dir = os.path.join(train_img_dir, i+\".jpg\")\n",
    "        New_blur_img_dir = os.path.join(train_img_dir,i+\"blur\"+\".jpg\")\n",
    "        New_color_img_dir = os.path.join(train_img_dir,i+\"color\"+\".jpg\")\n",
    "        f = open(label_path, 'r')\n",
    "        data = f.read()\n",
    "        f.close()\n",
    "        h = open(Blur_label_path,'w')\n",
    "        h2 = open(Color_label_path,'w')\n",
    "        h.write(data)\n",
    "        h2.write(data)\n",
    "        h.close()\n",
    "        h2.close()\n",
    "        img = cv2.imread(img_dir)\n",
    "        re_img = cv2.resize(img, (256, 256))\n",
    "        blur = cv2.blur(re_img,(5,5))\n",
    "        color = cv2.cvtColor(re_img, cv2.COLOR_BGR2RGB)\n",
    "        cv2.imwrite(New_blur_img_dir,blur)\n",
    "        cv2.imwrite(New_color_img_dir,color)\n",
    "        if k==3:\n",
    "            Gray_label_path = os.path.join(train_label_dir, i+\"gray\"+\".txt\")\n",
    "            New_gray_img_dir = os.path.join(train_img_dir,i+\"gray\"+\".jpg\")\n",
    "            h3 = open(Gray_label_path,'w')\n",
    "            h3.write(data)\n",
    "            h3.close()\n",
    "            gray = cv2.cvtColor(re_img,cv2.COLOR_BGR2GRAY)\n",
    "            cv2.imwrite(New_gray_img_dir,gray)"
   ]
  },
  {
   "cell_type": "code",
   "execution_count": null,
   "id": "00b5e0c9",
   "metadata": {},
   "outputs": [],
   "source": []
  }
 ],
 "metadata": {
  "kernelspec": {
   "display_name": "Python 3 (ipykernel)",
   "language": "python",
   "name": "python3"
  },
  "language_info": {
   "codemirror_mode": {
    "name": "ipython",
    "version": 3
   },
   "file_extension": ".py",
   "mimetype": "text/x-python",
   "name": "python",
   "nbconvert_exporter": "python",
   "pygments_lexer": "ipython3",
   "version": "3.9.16"
  }
 },
 "nbformat": 4,
 "nbformat_minor": 5
}
